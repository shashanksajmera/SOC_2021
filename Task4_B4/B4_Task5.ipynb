{
 "cells": [
  {
   "cell_type": "code",
   "execution_count": 9,
   "metadata": {
    "colab": {
     "base_uri": "https://localhost:8080/"
    },
    "id": "Om6HZSvQKKpc",
    "outputId": "5ad838f8-c063-44c2-ec17-71f86e40a525"
   },
   "outputs": [
    {
     "name": "stdout",
     "output_type": "stream",
     "text": [
      "Requirement already satisfied: pafy in c:\\users\\shash\\anaconda3\\lib\\site-packages (0.5.5)\n",
      "Requirement already satisfied: youtube-dl in c:\\users\\shash\\anaconda3\\lib\\site-packages (2021.6.6)\n",
      "Requirement already satisfied: opencv-python in c:\\users\\shash\\anaconda3\\lib\\site-packages (4.5.2.52)\n",
      "Requirement already satisfied: numpy>=1.17.3 in c:\\users\\shash\\anaconda3\\lib\\site-packages (from opencv-python) (1.19.2)\n"
     ]
    }
   ],
   "source": [
    "# To install libraries required for loading youtube videos\n",
    "!pip install pafy\n",
    "!pip install youtube-dl "
   ]
  },
  {
   "cell_type": "code",
   "execution_count": null,
   "metadata": {
    "colab": {
     "base_uri": "https://localhost:8080/"
    },
    "id": "G3rZQDWhTUw9",
    "outputId": "474eb0c1-d665-40f3-d9dd-56ecdbe2e816"
   },
   "outputs": [
    {
     "name": "stdout",
     "output_type": "stream",
     "text": [
      "Drive already mounted at /content/drive; to attempt to forcibly remount, call drive.mount(\"/content/drive\", force_remount=True).\n"
     ]
    }
   ],
   "source": [
    "# Mounting drive\n",
    "#from google.colab import drive\n",
    "#drive.mount('/content/drive')"
   ]
  },
  {
   "cell_type": "code",
   "execution_count": 15,
   "metadata": {
    "id": "vK12FIndQDBh"
   },
   "outputs": [],
   "source": [
    "import os\n",
    "# Change path to your folder containing the four pre-trianed files,\n",
    "# TO get those four files you can go to SoC2k21 drive->My_Pretrained\n",
    "# download those files and put it in some folder in drive and give that \n",
    "# folder path in path variable\n",
    "path = r'C:\\Users\\shash\\IIT BOMBAY\\SOC2021\\My_Pretrained'\n",
    "\n",
    "#Give path for output directory where you want the processed video\n",
    "output_dir = './'\n",
    "# You can change output directory to something like \n",
    "# '/content/drive/MyDrive/SoC2k21/My_Pretrained'\n",
    "# also so that output video is directly saved to drive,\n",
    "#  else it would go to left pane"
   ]
  },
  {
   "cell_type": "code",
   "execution_count": 17,
   "metadata": {
    "colab": {
     "base_uri": "https://localhost:8080/"
    },
    "id": "sDsmqYvnJpIK",
    "outputId": "9e430c5d-7a86-47a9-afe0-5298e52f2234"
   },
   "outputs": [
    {
     "name": "stdout",
     "output_type": "stream",
     "text": [
      "300\n"
     ]
    }
   ],
   "source": [
    "# Importing OpenCV, pafy for youtube video processing and time library\n",
    "import cv2\n",
    "import numpy as np\n",
    "import pafy\n",
    "import time\n",
    "\n",
    "# cv2.imshow doesn't work in colab hence cv2_imshow(image) would have to be done\n",
    "#import cv2.imshow\n",
    "\n",
    "# Would run the video processing code for n seconds only\n",
    "n = 10\n",
    "\n",
    "# Setting up output video writer\n",
    "fourcc = cv2.VideoWriter_fourcc(*'XVID')\n",
    "w, h = 1280,720\n",
    "fourcc = cv2.VideoWriter_fourcc('m', 'p', '4', 'v')\n",
    "output_fps = 30\n",
    "output_movie = cv2.VideoWriter(os.path.join(output_dir,'output_video.avi'), fourcc, output_fps, (w, h))\n",
    "\n",
    "#url of the video to predict Age and gender\n",
    "url = 'https://www.youtube.com/watch?v=iH1ZJVqJO3Y'\n",
    "vPafy = pafy.new(url)\n",
    "play = vPafy.getbest(preftype=\"mp4\")\n",
    "\n",
    "# Capturing youtube video\n",
    "cap = cv2.VideoCapture(play.url)\n",
    "\n",
    "cap.set(3, 480) #set width of the frame\n",
    "cap.set(4, 640) #set height of the frame\n",
    "\n",
    "# Pretrained model mean values\n",
    "MODEL_MEAN_VALUES = (78.4263377603, 87.7689143744, 114.895847746)\n",
    "\n",
    "# Setting the same age and gender ranges as that of pre trianed model\n",
    "age_list = ['(0, 2)', '(4, 6)', '(8, 12)', '(15, 20)', '(25, 32)', '(38, 43)', '(48, 53)', '(60, 100)']\n",
    "\n",
    "gender_list = ['Male', 'Female']\n",
    "\n",
    "# Functions to load models\n",
    "def load_caffe_models():\n",
    " \n",
    "  age_net = cv2.dnn.readNetFromCaffe(os.path.join(path,'deploy_age.prototxt'), os.path.join(path,'age_net.caffemodel'))\n",
    "\n",
    "  gender_net = cv2.dnn.readNetFromCaffe(os.path.join(path,'deploy_gender.prototxt'), os.path.join(path,'gender_net.caffemodel'))\n",
    "\n",
    "  return (age_net, gender_net)\n",
    "\n",
    "# Function to detetct age and gender\n",
    "\n",
    "def video_detector(age_net, gender_net):\n",
    "  # Selecting cv2 font to write on the video\n",
    "  font = cv2.FONT_HERSHEY_SIMPLEX\n",
    "  framecount = 0\n",
    "\n",
    "  # Ending the loop when frames in output video are n*FPS (for e.g. 10*30=300)\n",
    "  while framecount < n*output_fps:\n",
    "\n",
    "      ret, image = cap.read()\n",
    "      framecount = framecount+1\n",
    "\n",
    "      face_cascade = cv2.CascadeClassifier(cv2.data.haarcascades + 'haarcascade_frontalface_alt.xml')\n",
    "      eye_cascade = cv2.CascadeClassifier(cv2.data.haarcascades + 'haarcascade_eye.xml')\n",
    "    \n",
    "      gray = cv2.cvtColor(image, cv2.COLOR_BGR2GRAY)\n",
    "\n",
    "      faces = face_cascade.detectMultiScale(gray, 1.1, 5)\n",
    "\n",
    "      for (x, y, w, h )in faces:\n",
    "        cv2.rectangle(image, (x, y), (x+w, y+h), (255, 255, 0), 2)\n",
    "\n",
    "      #Get Face \n",
    "        face_img = image[y:y+h, h:h+w].copy()\n",
    "        blob = cv2.dnn.blobFromImage(face_img, 1, (227, 227), MODEL_MEAN_VALUES, swapRB=False)\n",
    "\n",
    "      #Predict Gender\n",
    "        gender_net.setInput(blob)\n",
    "        gender_preds = gender_net.forward()\n",
    "        gender = gender_list[gender_preds[0].argmax()]\n",
    "        #print(\"Gender : \" + gender)\n",
    "\n",
    "      #Predict Age\n",
    "        age_net.setInput(blob)\n",
    "        age_preds = age_net.forward()\n",
    "        age = age_list[age_preds[0].argmax()]\n",
    "        #print(\"Age Range: \" + age)\n",
    "\n",
    "        overlay_text = \"%s %s\" % (gender, age)\n",
    "        cv2.putText(image, overlay_text, (x, y), font, 1, (255, 255, 255), 2, cv2.LINE_AA)\n",
    "      output_movie.write(image)\n",
    "  output_movie.release()\n",
    "  print(framecount)\n",
    "\n",
    "# Running made functions\n",
    "age_net, gender_net = load_caffe_models()\n",
    "\n",
    "video_detector(age_net, gender_net)"
   ]
  },
  {
   "cell_type": "code",
   "execution_count": null,
   "metadata": {
    "id": "bBMCR02BKAWE"
   },
   "outputs": [],
   "source": []
  }
 ],
 "metadata": {
  "colab": {
   "collapsed_sections": [],
   "name": "Gender_Age.ipynb",
   "provenance": []
  },
  "kernelspec": {
   "display_name": "Python 3",
   "language": "python",
   "name": "python3"
  },
  "language_info": {
   "codemirror_mode": {
    "name": "ipython",
    "version": 3
   },
   "file_extension": ".py",
   "mimetype": "text/x-python",
   "name": "python",
   "nbconvert_exporter": "python",
   "pygments_lexer": "ipython3",
   "version": "3.8.5"
  }
 },
 "nbformat": 4,
 "nbformat_minor": 1
}
